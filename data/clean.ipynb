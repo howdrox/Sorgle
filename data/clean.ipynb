{
 "cells": [
  {
   "cell_type": "code",
   "execution_count": 1,
   "id": "26e117f6",
   "metadata": {},
   "outputs": [],
   "source": [
    "import json\n",
    "\n",
    "# Load the JSON data\n",
    "with open('professors.json', 'r', encoding='utf-8') as f:\n",
    "    professors = json.load(f)"
   ]
  },
  {
   "cell_type": "code",
   "execution_count": null,
   "id": "a04a2898",
   "metadata": {},
   "outputs": [],
   "source": [
    "# Sort by 'name'\n",
    "professors_sorted = sorted(professors, key=lambda x: x['name'])\n",
    "\n",
    "# Add sequential IDs starting from 1\n",
    "for idx, prof in enumerate(professors_sorted, start=1):\n",
    "    prof['id'] = idx\n",
    "\n",
    "# Save to a new JSON file\n",
    "with open('professors_sorted.json', 'w', encoding='utf-8') as f:\n",
    "    json.dump(professors_sorted, f, ensure_ascii=False, indent=2)\n",
    "\n",
    "print(\"Professors sorted and IDs added. Output saved to all_professors_sorted.json\")"
   ]
  },
  {
   "cell_type": "code",
   "execution_count": 8,
   "id": "b2f6dec6",
   "metadata": {},
   "outputs": [
    {
     "name": "stdout",
     "output_type": "stream",
     "text": [
      "Professors merged, sorted, and IDs updated. Output saved to professors_merged_sorted.json\n"
     ]
    }
   ],
   "source": [
    "# Merge 'profile_url' and 'url' into 'profile_url'\n",
    "for prof in professors:\n",
    "    if 'url' in prof:\n",
    "        prof['profile_url'] = prof.get('profile_url', '') or prof['url']\n",
    "        del prof['url']\n",
    "\n",
    "# Sort by 'name'\n",
    "professors_sorted = sorted(professors, key=lambda x: x['name'])\n",
    "\n",
    "# Add sequential IDs starting from 1\n",
    "for idx, prof in enumerate(professors_sorted, start=1):\n",
    "    prof['id'] = idx\n",
    "\n",
    "# Save to a new JSON file\n",
    "with open('professors_merged_sorted.json', 'w', encoding='utf-8') as f:\n",
    "    json.dump(professors_sorted, f, ensure_ascii=False, indent=2)\n",
    "\n",
    "print(\"Professors merged, sorted, and IDs updated. Output saved to professors_merged_sorted.json\")"
   ]
  },
  {
   "cell_type": "code",
   "execution_count": 2,
   "id": "85ada351",
   "metadata": {},
   "outputs": [
    {
     "name": "stdout",
     "output_type": "stream",
     "text": [
      "Updated professors with 'bio' as list saved to professors_bio_list.json\n"
     ]
    }
   ],
   "source": [
    "# Convert 'bio' field to a list of strings split by '\\n'\n",
    "for prof in professors:\n",
    "    if 'bio' in prof and isinstance(prof['bio'], str):\n",
    "        prof['bio'] = prof['bio'].split('\\n')\n",
    "\n",
    "# Save the updated data to a new JSON file\n",
    "with open('professors2.json', 'w', encoding='utf-8') as f:\n",
    "    json.dump(professors, f, ensure_ascii=False, indent=2)\n",
    "\n",
    "print(\"Updated professors with 'bio' as list saved to professors_bio_list.json\")"
   ]
  }
 ],
 "metadata": {
  "kernelspec": {
   "display_name": "Python 3",
   "language": "python",
   "name": "python3"
  },
  "language_info": {
   "codemirror_mode": {
    "name": "ipython",
    "version": 3
   },
   "file_extension": ".py",
   "mimetype": "text/x-python",
   "name": "python",
   "nbconvert_exporter": "python",
   "pygments_lexer": "ipython3",
   "version": "3.13.0"
  }
 },
 "nbformat": 4,
 "nbformat_minor": 5
}
