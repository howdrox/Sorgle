{
 "cells": [
  {
   "cell_type": "code",
   "execution_count": null,
   "id": "3269594d",
   "metadata": {},
   "outputs": [],
   "source": [
    "for item in data:\n",
    "    if 'functions' in item:\n",
    "        item['unit'] = item.pop('functions')\n",
    "\n",
    "with open('thu.json', 'w', encoding='utf-8') as f:\n",
    "    json.dump(data, f, ensure_ascii=False, indent=2)\n"
   ]
  }
 ],
 "metadata": {
  "kernelspec": {
   "display_name": "Python 3",
   "language": "python",
   "name": "python3"
  },
  "language_info": {
   "codemirror_mode": {
    "name": "ipython",
    "version": 3
   },
   "file_extension": ".py",
   "mimetype": "text/x-python",
   "name": "python",
   "nbconvert_exporter": "python",
   "pygments_lexer": "ipython3",
   "version": "3.13.0"
  }
 },
 "nbformat": 4,
 "nbformat_minor": 5
}
