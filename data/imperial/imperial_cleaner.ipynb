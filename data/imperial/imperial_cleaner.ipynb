{
 "cells": [
  {
   "cell_type": "code",
   "execution_count": null,
   "id": "1f7d6422",
   "metadata": {},
   "outputs": [],
   "source": [
    "import json\n",
    "import sys\n",
    "\n",
    "def rename_keys(data):\n",
    "    if isinstance(data, dict):\n",
    "        new_data = {}\n",
    "        for k, v in data.items():\n",
    "            new_key = k\n",
    "            if k == \"position\":\n",
    "                new_key = \"unit\"\n",
    "            elif k == \"title\":\n",
    "                new_key = \"function\"\n",
    "            new_data[new_key] = rename_keys(v)\n",
    "        return new_data\n",
    "    elif isinstance(data, list):\n",
    "        return [rename_keys(item) for item in data]\n",
    "    else:\n",
    "        return data\n",
    "\n",
    "def main(input_path, output_path):\n",
    "    with open(input_path, 'r', encoding='utf-8') as f:\n",
    "        data = json.load(f)\n",
    "    new_data = rename_keys(data)\n",
    "    with open(output_path, 'w', encoding='utf-8') as f:\n",
    "        json.dump(new_data, f, indent=2, ensure_ascii=False)\n",
    "\n",
    "if __name__ == \"__main__\":\n",
    "    if len(sys.argv) != 3:\n",
    "        print(\"Usage: python imperial_cleaner.py input.json output.json\")\n",
    "        sys.exit(1)\n",
    "    main(sys.argv[1], sys.argv[2])"
   ]
  },
  {
   "cell_type": "code",
   "execution_count": 2,
   "id": "4bb10dfe",
   "metadata": {},
   "outputs": [],
   "source": [
    "import json\n",
    "with open('imperial.json', 'r', encoding='utf-8') as f:\n",
    "    data = json.load(f)\n",
    "\n",
    "def unit_to_list(d):\n",
    "    if isinstance(d, dict):\n",
    "        for k, v in d.items():\n",
    "            if k == \"unit\" and not isinstance(v, list):\n",
    "                d[k] = [v]\n",
    "            else:\n",
    "                unit_to_list(v)\n",
    "    elif isinstance(d, list):\n",
    "        for item in d:\n",
    "            unit_to_list(item)\n",
    "\n",
    "unit_to_list(data)\n",
    "\n",
    "with open('imperial.json', 'w', encoding='utf-8') as f:\n",
    "    json.dump(data, f, indent=2, ensure_ascii=False)"
   ]
  }
 ],
 "metadata": {
  "kernelspec": {
   "display_name": "Python 3",
   "language": "python",
   "name": "python3"
  },
  "language_info": {
   "codemirror_mode": {
    "name": "ipython",
    "version": 3
   },
   "file_extension": ".py",
   "mimetype": "text/x-python",
   "name": "python",
   "nbconvert_exporter": "python",
   "pygments_lexer": "ipython3",
   "version": "3.13.0"
  }
 },
 "nbformat": 4,
 "nbformat_minor": 5
}
