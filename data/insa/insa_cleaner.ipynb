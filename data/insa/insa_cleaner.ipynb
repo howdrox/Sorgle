{
 "cells": [
  {
   "cell_type": "code",
   "execution_count": 1,
   "id": "f9e6ea10",
   "metadata": {},
   "outputs": [
    {
     "data": {
      "text/html": [
       "<div>\n",
       "<style scoped>\n",
       "    .dataframe tbody tr th:only-of-type {\n",
       "        vertical-align: middle;\n",
       "    }\n",
       "\n",
       "    .dataframe tbody tr th {\n",
       "        vertical-align: top;\n",
       "    }\n",
       "\n",
       "    .dataframe thead th {\n",
       "        text-align: right;\n",
       "    }\n",
       "</style>\n",
       "<table border=\"1\" class=\"dataframe\">\n",
       "  <thead>\n",
       "    <tr style=\"text-align: right;\">\n",
       "      <th></th>\n",
       "      <th>first_name</th>\n",
       "      <th>last_name</th>\n",
       "      <th>phone</th>\n",
       "      <th>department</th>\n",
       "      <th>role</th>\n",
       "    </tr>\n",
       "  </thead>\n",
       "  <tbody>\n",
       "    <tr>\n",
       "      <th>0</th>\n",
       "      <td>Raouhi</td>\n",
       "      <td>Sanaa</td>\n",
       "      <td>[]</td>\n",
       "      <td>[LVA]</td>\n",
       "      <td>[alum, researcher]</td>\n",
       "    </tr>\n",
       "    <tr>\n",
       "      <th>1</th>\n",
       "      <td>Amin</td>\n",
       "      <td>Laafar</td>\n",
       "      <td>[]</td>\n",
       "      <td>[FIMI, DEEP]</td>\n",
       "      <td>[alum, teacher]</td>\n",
       "    </tr>\n",
       "    <tr>\n",
       "      <th>2</th>\n",
       "      <td>Amine</td>\n",
       "      <td>Laaribi</td>\n",
       "      <td>[]</td>\n",
       "      <td>[LAMCOS]</td>\n",
       "      <td>[student, researcher]</td>\n",
       "    </tr>\n",
       "    <tr>\n",
       "      <th>3</th>\n",
       "      <td>Abderrahim</td>\n",
       "      <td>Maazouz</td>\n",
       "      <td>[04 72 43 63 32, 04 72 43 82 25, 04 72 43 78 10]</td>\n",
       "      <td>[GM, IMP]</td>\n",
       "      <td>[teacher]</td>\n",
       "    </tr>\n",
       "    <tr>\n",
       "      <th>4</th>\n",
       "      <td>Hacina</td>\n",
       "      <td>Djaafri</td>\n",
       "      <td>[]</td>\n",
       "      <td>[AMPERE]</td>\n",
       "      <td>[teacher]</td>\n",
       "    </tr>\n",
       "    <tr>\n",
       "      <th>...</th>\n",
       "      <td>...</td>\n",
       "      <td>...</td>\n",
       "      <td>...</td>\n",
       "      <td>...</td>\n",
       "      <td>...</td>\n",
       "    </tr>\n",
       "    <tr>\n",
       "      <th>1194</th>\n",
       "      <td>Nour el Houda</td>\n",
       "      <td>Mezni</td>\n",
       "      <td>[]</td>\n",
       "      <td>[DISP]</td>\n",
       "      <td>[student, researcher]</td>\n",
       "    </tr>\n",
       "    <tr>\n",
       "      <th>1195</th>\n",
       "      <td>Sophie</td>\n",
       "      <td>Cazottes</td>\n",
       "      <td>[04 72 43 82 45]</td>\n",
       "      <td>[SGM, MATEIS]</td>\n",
       "      <td>[teacher]</td>\n",
       "    </tr>\n",
       "    <tr>\n",
       "      <th>1196</th>\n",
       "      <td>Aurelien</td>\n",
       "      <td>ChazottesLeconte</td>\n",
       "      <td>[]</td>\n",
       "      <td>[FIMI, LAMCOS]</td>\n",
       "      <td>[teacher]</td>\n",
       "    </tr>\n",
       "    <tr>\n",
       "      <th>1197</th>\n",
       "      <td>Melanie</td>\n",
       "      <td>Mezquita</td>\n",
       "      <td>[]</td>\n",
       "      <td>[DIR]</td>\n",
       "      <td>[teacher]</td>\n",
       "    </tr>\n",
       "    <tr>\n",
       "      <th>1198</th>\n",
       "      <td>Pau</td>\n",
       "      <td>Becerra Zuniga</td>\n",
       "      <td>[]</td>\n",
       "      <td>[LAMCOS]</td>\n",
       "      <td>[student, researcher]</td>\n",
       "    </tr>\n",
       "  </tbody>\n",
       "</table>\n",
       "<p>1199 rows × 5 columns</p>\n",
       "</div>"
      ],
      "text/plain": [
       "         first_name         last_name  \\\n",
       "0            Raouhi             Sanaa   \n",
       "1              Amin            Laafar   \n",
       "2             Amine           Laaribi   \n",
       "3        Abderrahim           Maazouz   \n",
       "4            Hacina           Djaafri   \n",
       "...             ...               ...   \n",
       "1194  Nour el Houda             Mezni   \n",
       "1195         Sophie          Cazottes   \n",
       "1196       Aurelien  ChazottesLeconte   \n",
       "1197        Melanie          Mezquita   \n",
       "1198            Pau    Becerra Zuniga   \n",
       "\n",
       "                                                 phone      department  \\\n",
       "0                                                   []           [LVA]   \n",
       "1                                                   []    [FIMI, DEEP]   \n",
       "2                                                   []        [LAMCOS]   \n",
       "3     [04 72 43 63 32, 04 72 43 82 25, 04 72 43 78 10]       [GM, IMP]   \n",
       "4                                                   []        [AMPERE]   \n",
       "...                                                ...             ...   \n",
       "1194                                                []          [DISP]   \n",
       "1195                                  [04 72 43 82 45]   [SGM, MATEIS]   \n",
       "1196                                                []  [FIMI, LAMCOS]   \n",
       "1197                                                []           [DIR]   \n",
       "1198                                                []        [LAMCOS]   \n",
       "\n",
       "                       role  \n",
       "0        [alum, researcher]  \n",
       "1           [alum, teacher]  \n",
       "2     [student, researcher]  \n",
       "3                 [teacher]  \n",
       "4                 [teacher]  \n",
       "...                     ...  \n",
       "1194  [student, researcher]  \n",
       "1195              [teacher]  \n",
       "1196              [teacher]  \n",
       "1197              [teacher]  \n",
       "1198  [student, researcher]  \n",
       "\n",
       "[1199 rows x 5 columns]"
      ]
     },
     "execution_count": 1,
     "metadata": {},
     "output_type": "execute_result"
    }
   ],
   "source": [
    "import pandas as pd\n",
    "import json\n",
    "\n",
    "with open('insa_researchers_teachers.json', 'r', encoding='utf-8') as f:\n",
    "    insa_professor = json.load(f)\n",
    "\n",
    "df = pd.DataFrame(insa_professor)\n",
    "df"
   ]
  },
  {
   "cell_type": "code",
   "execution_count": 101,
   "id": "b7ca56a2",
   "metadata": {},
   "outputs": [],
   "source": [
    "import json\n",
    "\n",
    "with open('insa_professors.json', 'r', encoding='utf-8') as f:\n",
    "    data = json.load(f)\n",
    "\n",
    "def replace_empty_with_null(obj):\n",
    "    if isinstance(obj, dict):\n",
    "        return {k: replace_empty_with_null(v) for k, v in obj.items()}\n",
    "    elif isinstance(obj, list):\n",
    "        return [replace_empty_with_null(item) for item in obj]\n",
    "    elif obj == \"\":\n",
    "        return None\n",
    "    else:\n",
    "        return obj\n",
    "\n",
    "data_null = replace_empty_with_null(data)\n",
    "\n",
    "with open('insa_professors.json', 'w', encoding='utf-8') as f:\n",
    "    json.dump(data_null, f, ensure_ascii=False, indent=2)"
   ]
  },
  {
   "cell_type": "code",
   "execution_count": 84,
   "id": "1c0d47bd",
   "metadata": {},
   "outputs": [
    {
     "name": "stdout",
     "output_type": "stream",
     "text": [
      "Counter({'': 190, 'Foundation Course for Engineering': 160, 'Computer Science & Image Laboratory': 106, 'Applied Mechanics & Computational Structures': 89, 'Materials, Architecture & Soil Science': 79, 'Mechanical Engineering': 76, 'PhD Students (Doctoral Program)': 67, 'Ampère Laboratory (Electrical Engineering & Power Electronics)': 65, 'Interdisciplinary Center for Intelligent Transportation': 63, 'Nanotechnology Institute of Lyon': 58, 'Research Center for Acquisition & Processing of Imaging for Health': 58, 'Humanities Department': 55, 'Center for Energy Transition & Habitat': 50, 'Mechanics, Processing & Energy': 47, 'INSA Valorization Unit': 35, 'Geo-Modelling & Hydraulics': 33, 'Computer Science': 33, 'Department of Product Design': 32, 'Telecommunications': 28, 'Electrical Engineering': 27, 'Industrial Engineering': 25, 'Applied Living Languages & Cultures': 24, 'Energy, Electronics, Processes & Production': 23, 'Central Engineering Unit': 23, 'Energy & New Energies': 22, 'Mathematics & Physics': 21, 'Biosciences': 20, 'Fluid Mechanics & Acoustics Laboratory': 17, 'Department of Industrial Relations': 15, 'Institute of Criminal Sciences': 13, 'Hydraulic & Environmental Engineering Laboratory': 13, 'Geomechanics & Structures': 12, 'Center for Data Sciences': 11, 'Algorithms, Numerical and Imaging Laboratory': 10, 'Bio-Functionalization & Functional Imaging Interfaces': 10, 'Cardiovascular Research Center': 9, 'French National Institute for Research in Digital Science & Technology': 5, 'Materials, Components & Printed Structures': 5, 'Department of Architecture, Construction & Fluid Mechanics': 4})\n",
      "['', 'Algorithms, Numerical and Imaging Laboratory', 'Ampère Laboratory (Electrical Engineering & Power Electronics)', 'Applied Living Languages & Cultures', 'Applied Mechanics & Computational Structures', 'Bio-Functionalization & Functional Imaging Interfaces', 'Biosciences', 'Cardiovascular Research Center', 'Center for Data Sciences', 'Center for Energy Transition & Habitat', 'Central Engineering Unit', 'Computer Science', 'Computer Science & Image Laboratory', 'Department of Architecture, Construction & Fluid Mechanics', 'Department of Industrial Relations', 'Department of Product Design', 'Electrical Engineering', 'Energy & New Energies', 'Energy, Electronics, Processes & Production', 'Fluid Mechanics & Acoustics Laboratory', 'Foundation Course for Engineering', 'French National Institute for Research in Digital Science & Technology', 'Geo-Modelling & Hydraulics', 'Geomechanics & Structures', 'Humanities Department', 'Hydraulic & Environmental Engineering Laboratory', 'INSA Valorization Unit', 'Industrial Engineering', 'Institute of Criminal Sciences', 'Interdisciplinary Center for Intelligent Transportation', 'Materials, Architecture & Soil Science', 'Materials, Components & Printed Structures', 'Mathematics & Physics', 'Mechanical Engineering', 'Mechanics, Processing & Energy', 'Nanotechnology Institute of Lyon', 'PhD Students (Doctoral Program)', 'Research Center for Acquisition & Processing of Imaging for Health', 'Telecommunications']\n"
     ]
    }
   ],
   "source": [
    "from collections import Counter\n",
    "\n",
    "department_list = [dept for departments in df['department_en'] for dept in departments]\n",
    "department_counts = Counter(department_list)\n",
    "print(department_counts)\n",
    "print(sorted(set(department_list)))"
   ]
  },
  {
   "cell_type": "code",
   "execution_count": 76,
   "id": "cf3fbf39",
   "metadata": {},
   "outputs": [],
   "source": [
    "df['department'] = df['department'].apply(lambda deps: [d for d in deps if d != 'ICBMS'])"
   ]
  },
  {
   "cell_type": "code",
   "execution_count": 61,
   "id": "1fcae0c4",
   "metadata": {},
   "outputs": [],
   "source": [
    "df['department'] = df['department'].apply(lambda deps: ['IF' if d == 'IFA' else d for d in deps])"
   ]
  },
  {
   "cell_type": "code",
   "execution_count": 87,
   "id": "ba3abbd1",
   "metadata": {},
   "outputs": [
    {
     "name": "stdout",
     "output_type": "stream",
     "text": [
      "          first_name   last_name             phone department  \\\n",
      "5                Jan     Aalmoes                []         []   \n",
      "7            Mostafa  Benzaazoua  [04 72 43 83 45]         []   \n",
      "9         Souleymane       Drabo                []         []   \n",
      "38            Chaima     Bouafif                []         []   \n",
      "39              Fadi     Karkafi                []         []   \n",
      "...              ...         ...               ...        ...   \n",
      "1097           Sweta      Suresh                []         []   \n",
      "1132    Carlo Andrea   Venturini                []         []   \n",
      "1151  Pierre Nicolas      Mougel                []         []   \n",
      "1176           Marie      Winger                []         []   \n",
      "1187        Floriane    Peyrouse                []         []   \n",
      "\n",
      "                             role department_en  \n",
      "5      [student, researcher, off]            []  \n",
      "7                       [teacher]            []  \n",
      "9           [student, researcher]            []  \n",
      "38     [student, researcher, off]            []  \n",
      "39          [student, researcher]            []  \n",
      "...                           ...           ...  \n",
      "1097        [student, researcher]            []  \n",
      "1132   [student, researcher, off]            []  \n",
      "1151  [alum, teacher, researcher]            []  \n",
      "1176   [student, researcher, off]            []  \n",
      "1187   [student, researcher, off]            []  \n",
      "\n",
      "[190 rows x 6 columns]\n"
     ]
    }
   ],
   "source": [
    "no_department_df = df[df['department'].apply(lambda d: d == [''])]\n",
    "print(no_department_df)"
   ]
  },
  {
   "cell_type": "code",
   "execution_count": 88,
   "id": "5bf534db",
   "metadata": {},
   "outputs": [],
   "source": [
    "df = df.drop(no_department_df.index)"
   ]
  },
  {
   "cell_type": "code",
   "execution_count": 81,
   "id": "80f22e4c",
   "metadata": {},
   "outputs": [],
   "source": [
    "dept_map = {\n",
    "    \"\":          \"\",\n",
    "    \"ALNI\":      \"Algorithms, Numerical and Imaging Laboratory\",\n",
    "    \"AMPERE\":    \"Ampère Laboratory (Electrical Engineering & Power Electronics)\",\n",
    "    \"BF2I\":      \"Bio-Functionalization & Functional Imaging Interfaces\",\n",
    "    \"BS\":        \"Biosciences\",\n",
    "    \"CARMEN\":    \"Cardiovascular Research Center\",\n",
    "    \"CDS\":       \"Center for Data Sciences\",\n",
    "    \"CETHIL\":    \"Center for Energy Transition & Habitat\",\n",
    "    \"CITI\":      \"Interdisciplinary Center for Intelligent Transportation\",\n",
    "    \"CREATIS\":   \"Research Center for Acquisition & Processing of Imaging for Health\",\n",
    "    \"DAFC\":      \"Department of Architecture, Construction & Fluid Mechanics\",\n",
    "    \"DEEP\":      \"Energy, Electronics, Processes & Production\",\n",
    "    \"DIR\":       \"Department of Industrial Relations\",\n",
    "    \"DISP\":      \"Department of Product Design\",\n",
    "    \"DOCTORANTS\":\"PhD Students (Doctoral Program)\",\n",
    "    \"FIMI\":      \"Foundation Course for Engineering\",\n",
    "    \"GCU\":       \"Central Engineering Unit\",\n",
    "    \"GE\":        \"Electrical Engineering\",\n",
    "    \"GEN\":       \"Energy & New Energies\",\n",
    "    \"GEOMAS\":    \"Geomechanics & Structures\",\n",
    "    \"GI\":        \"Industrial Engineering\",\n",
    "    \"GM\":        \"Mechanical Engineering\",\n",
    "    \"GMCIP\":     \"Materials, Components & Printed Structures\",\n",
    "    \"HUMA\":      \"Humanities Department\",\n",
    "    \"ICJ\":       \"Institute of Criminal Sciences\",\n",
    "    \"IF\":        \"Computer Science\",\n",
    "    \"IMP\":       \"Mechanics, Processing & Energy\",\n",
    "    \"INL\":       \"Nanotechnology Institute of Lyon\",\n",
    "    \"INRIA\":     \"French National Institute for Research in Digital Science & Technology\",\n",
    "    \"INSAVAL.\":  \"INSA Valorization Unit\",\n",
    "    \"LAMCOS\":    \"Applied Mechanics & Computational Structures\",\n",
    "    \"LGEF\":      \"Hydraulic & Environmental Engineering Laboratory\",\n",
    "    \"LIRIS\":     \"Computer Science & Image Laboratory\",\n",
    "    \"LMFA\":      \"Fluid Mechanics & Acoustics Laboratory\",\n",
    "    \"LVA\":       \"Applied Living Languages & Cultures\",\n",
    "    \"MAP\":       \"Mathematics & Physics\",\n",
    "    \"MATEIS\":    \"Materials, Architecture & Soil Science\",\n",
    "    \"SGM\":       \"Geo-Modelling & Hydraulics\",\n",
    "    \"TC\":        \"Telecommunications\"\n",
    "}\n",
    "\n",
    "# 3. Translate each row’s 'department' list into English using the mapping above.\n",
    "#    If a code isn’t found in dept_map, it will remain unchanged.\n",
    "def translate_depts(codes: list[str]) -> list[str]:\n",
    "    return [dept_map.get(code, code) for code in codes]\n",
    "\n",
    "df[\"department_en\"] = df[\"department\"].apply(translate_depts)"
   ]
  },
  {
   "cell_type": "code",
   "execution_count": 99,
   "id": "882c3814",
   "metadata": {
    "vscode": {
     "languageId": "javascript"
    }
   },
   "outputs": [],
   "source": [
    "df = df.rename(columns={'uni': 'university'})"
   ]
  },
  {
   "cell_type": "code",
   "execution_count": 100,
   "id": "0299cecc",
   "metadata": {
    "vscode": {
     "languageId": "javascript"
    }
   },
   "outputs": [],
   "source": [
    "df.to_json('insa_professors.json', orient='records', force_ascii=False, indent=2)"
   ]
  },
  {
   "cell_type": "code",
   "execution_count": null,
   "id": "1d9b926d",
   "metadata": {
    "vscode": {
     "languageId": "javascript"
    }
   },
   "outputs": [],
   "source": []
  },
  {
   "cell_type": "code",
   "execution_count": 94,
   "id": "a2f0cdaf",
   "metadata": {},
   "outputs": [],
   "source": [
    "import re\n",
    "\n",
    "def to_french_phone(phone_list):\n",
    "    result = []\n",
    "    for phone in phone_list:\n",
    "        # Remove all spaces and dashes for normalization\n",
    "        normalized = re.sub(r'[\\s\\-]', '', phone)\n",
    "        # Only process numbers starting with '0' and 10 digits\n",
    "        if normalized.startswith('0') and len(normalized) == 10:\n",
    "            result.append('+33' + normalized[1:])\n",
    "        else:\n",
    "            result.append(phone)\n",
    "    return result\n",
    "\n",
    "df['phone'] = df['phone'].apply(to_french_phone)"
   ]
  },
  {
   "cell_type": "code",
   "execution_count": 97,
   "id": "b84c9c6e",
   "metadata": {},
   "outputs": [],
   "source": [
    "df['uni'] = 'INSA Lyon'"
   ]
  },
  {
   "cell_type": "code",
   "execution_count": 47,
   "id": "4d816334",
   "metadata": {},
   "outputs": [],
   "source": [
    "import pandas as pd\n",
    "\n",
    "df = pd.read_csv('data/insa_all_cleaned.csv')"
   ]
  },
  {
   "cell_type": "code",
   "execution_count": 90,
   "id": "9d599b1c",
   "metadata": {},
   "outputs": [
    {
     "name": "stdout",
     "output_type": "stream",
     "text": [
      "(999, 5)\n",
      "   first_name last_name                                             phone  \\\n",
      "0      Raouhi     Sanaa                                                []   \n",
      "1        Amin    Laafar                                                []   \n",
      "2       Amine   Laaribi                                                []   \n",
      "3  Abderrahim   Maazouz  [04 72 43 63 32, 04 72 43 82 25, 04 72 43 78 10]   \n",
      "4      Hacina   Djaafri                                                []   \n",
      "\n",
      "                    role                                         department  \n",
      "0     [alum, researcher]              [Applied Living Languages & Cultures]  \n",
      "1        [alum, teacher]  [Foundation Course for Engineering, Energy, El...  \n",
      "2  [student, researcher]     [Applied Mechanics & Computational Structures]  \n",
      "3              [teacher]  [Mechanical Engineering, Mechanics, Processing...  \n",
      "4              [teacher]  [Ampère Laboratory (Electrical Engineering & P...  \n",
      "<class 'pandas.core.frame.DataFrame'>\n",
      "Index: 999 entries, 0 to 1198\n",
      "Data columns (total 5 columns):\n",
      " #   Column      Non-Null Count  Dtype \n",
      "---  ------      --------------  ----- \n",
      " 0   first_name  999 non-null    object\n",
      " 1   last_name   999 non-null    object\n",
      " 2   phone       999 non-null    object\n",
      " 3   role        999 non-null    object\n",
      " 4   department  999 non-null    object\n",
      "dtypes: object(5)\n",
      "memory usage: 46.8+ KB\n",
      "None\n"
     ]
    }
   ],
   "source": [
    "print(df.shape)      # number of rows, columns\n",
    "print(df.head())     # first few rows\n",
    "print(df.info())     # data types and non-null counts"
   ]
  },
  {
   "cell_type": "code",
   "execution_count": 4,
   "id": "170cd87d",
   "metadata": {},
   "outputs": [],
   "source": [
    "df = df.drop_duplicates()"
   ]
  },
  {
   "cell_type": "code",
   "execution_count": null,
   "id": "2f4b35d0",
   "metadata": {},
   "outputs": [],
   "source": [
    "df = df.dropna(subset=['role'])"
   ]
  },
  {
   "cell_type": "code",
   "execution_count": 53,
   "id": "0f6b5a89",
   "metadata": {},
   "outputs": [],
   "source": [
    "df.to_csv('data/insa_all_cleaned.csv', index=False)"
   ]
  },
  {
   "cell_type": "code",
   "execution_count": null,
   "id": "a1237b45",
   "metadata": {},
   "outputs": [
    {
     "name": "stdout",
     "output_type": "stream",
     "text": [
      "(4794, 5)\n",
      "  First Name Last Name Phone Department       Role\n",
      "0  Alexandre      Saad          [GMPPA]  [student]\n",
      "1      Clara      Saad           [FIMI]  [student]\n",
      "2      Elise      Haag             [GM]  [student]\n",
      "3      Linda      Taam             [MT]  [student]\n",
      "4      Peter      Saad             [IF]  [student]\n",
      "<class 'pandas.core.frame.DataFrame'>\n",
      "Index: 4794 entries, 0 to 6506\n",
      "Data columns (total 5 columns):\n",
      " #   Column      Non-Null Count  Dtype \n",
      "---  ------      --------------  ----- \n",
      " 0   First Name  4794 non-null   object\n",
      " 1   Last Name   4794 non-null   object\n",
      " 2   Phone       4794 non-null   object\n",
      " 3   Department  4794 non-null   object\n",
      " 4   Role        4794 non-null   object\n",
      "dtypes: object(5)\n",
      "memory usage: 224.7+ KB\n"
     ]
    }
   ],
   "source": [
    "students_df = df[df['role'].apply(lambda roles: 'student' in roles)]\n",
    "print(students_df.shape)\n",
    "print(students_df.head())\n",
    "students_df.info()\n",
    "students_df.to_csv('data/insa_students.csv', index=False)"
   ]
  },
  {
   "cell_type": "code",
   "execution_count": null,
   "id": "83caca08",
   "metadata": {},
   "outputs": [
    {
     "name": "stdout",
     "output_type": "stream",
     "text": [
      "{'researcher', 'emeritus', 'staff', 'teacher', 'alum', 'student', 'off'}\n"
     ]
    }
   ],
   "source": [
    "unique_roles = set(role for roles in df['role'] for role in roles)\n",
    "print(unique_roles)"
   ]
  },
  {
   "cell_type": "code",
   "execution_count": null,
   "id": "5fa0c4fa",
   "metadata": {},
   "outputs": [
    {
     "name": "stdout",
     "output_type": "stream",
     "text": [
      "(1199, 5)\n",
      "    First Name Last Name                                             Phone  \\\n",
      "12      Raouhi     Sanaa                                                []   \n",
      "16        Amin    Laafar                                                []   \n",
      "27       Amine   Laaribi                                                []   \n",
      "28  Abderrahim   Maazouz  [04 72 43 63 32, 04 72 43 82 25, 04 72 43 78 10]   \n",
      "30      Hacina   Djaafri                                                []   \n",
      "\n",
      "      Department                   Role  \n",
      "12         [LVA]     [alum, researcher]  \n",
      "16  [FIMI, DEEP]        [alum, teacher]  \n",
      "27      [LAMCOS]  [student, researcher]  \n",
      "28     [GM, IMP]              [teacher]  \n",
      "30      [AMPERE]              [teacher]  \n",
      "<class 'pandas.core.frame.DataFrame'>\n",
      "Index: 1199 entries, 12 to 6502\n",
      "Data columns (total 5 columns):\n",
      " #   Column      Non-Null Count  Dtype \n",
      "---  ------      --------------  ----- \n",
      " 0   First Name  1199 non-null   object\n",
      " 1   Last Name   1199 non-null   object\n",
      " 2   Phone       1199 non-null   object\n",
      " 3   Department  1199 non-null   object\n",
      " 4   Role        1199 non-null   object\n",
      "dtypes: object(5)\n",
      "memory usage: 56.2+ KB\n"
     ]
    }
   ],
   "source": [
    "researchers_teachers_df = df[df['role'].apply(lambda roles: 'researcher' in roles or 'teacher' in roles)]\n",
    "print(researchers_teachers_df.shape)\n",
    "print(researchers_teachers_df.head())\n",
    "researchers_teachers_df.info()\n",
    "researchers_teachers_df.to_csv('data/insa_researchers_teachers.csv', index=False)"
   ]
  },
  {
   "cell_type": "code",
   "execution_count": 49,
   "id": "b3197e8b",
   "metadata": {},
   "outputs": [
    {
     "name": "stdout",
     "output_type": "stream",
     "text": [
      "(6194, 5)\n",
      "  first_name last_name phone department       role\n",
      "0  Alexandre      Saad    []    [GMPPA]  [student]\n",
      "1      Clara      Saad    []     [FIMI]  [student]\n",
      "2      Elise      Haag    []       [GM]  [student]\n",
      "3      Linda      Taam    []       [MT]  [student]\n",
      "4      Peter      Saad    []       [IF]  [student]\n"
     ]
    }
   ],
   "source": [
    "df['phone'] = df['phone'].fillna('')\n",
    "#    Or drop rows with missing Department or Role if those are required:\n",
    "# df = df.dropna(subset=['Department', 'Role'])\n",
    "\n",
    "df['role'] = df['role'].fillna('').apply(lambda s: [r.strip() for r in s.split(';') if r.strip()])\n",
    "df['department'] = df['department'].fillna('').apply(lambda s: [d.strip() for d in s.split(';') if d.strip()])\n",
    "df['phone'] = df['phone'].fillna('').apply(lambda s: [p.strip() for p in s.split(';') if p.strip()])\n",
    "# 7. Verify the result.\n",
    "print(df.shape)\n",
    "print(df.head())"
   ]
  },
  {
   "cell_type": "code",
   "execution_count": 54,
   "id": "d9a62de9",
   "metadata": {},
   "outputs": [
    {
     "name": "stdout",
     "output_type": "stream",
     "text": [
      "Wrote 6194 records to data/insa_all_cleaned.json\n"
     ]
    }
   ],
   "source": [
    "import csv\n",
    "import json\n",
    "import ast\n",
    "\n",
    "INPUT_CSV = 'data/insa_all_cleaned.csv'    # replace with your CSV filename\n",
    "OUTPUT_JSON = 'data/insa_all_cleaned.json' # desired output filename\n",
    "\n",
    "# Columns that contain Python-list strings\n",
    "LIST_COLS = ['phone', 'department', 'role']\n",
    "\n",
    "data = []\n",
    "with open(INPUT_CSV, newline='', encoding='utf-8') as csvfile:\n",
    "    reader = csv.DictReader(csvfile)\n",
    "    for row in reader:\n",
    "        # For each list-style column, literal_eval the cell (or use [] if empty)\n",
    "        for col in LIST_COLS:\n",
    "            raw = row.get(col, '').strip()\n",
    "            if raw:\n",
    "                try:\n",
    "                    row[col] = ast.literal_eval(raw)\n",
    "                except (ValueError, SyntaxError):\n",
    "                    # Fallback to empty list if parsing fails\n",
    "                    row[col] = []\n",
    "            else:\n",
    "                row[col] = []\n",
    "        data.append(row)\n",
    "\n",
    "# Write out as pretty-printed JSON\n",
    "with open(OUTPUT_JSON, 'w', encoding='utf-8') as jsonfile:\n",
    "    json.dump(data, jsonfile, ensure_ascii=False, indent=2)\n",
    "\n",
    "print(f\"Wrote {len(data)} records to {OUTPUT_JSON}\")\n"
   ]
  },
  {
   "cell_type": "code",
   "execution_count": 52,
   "id": "5dfff62a",
   "metadata": {},
   "outputs": [],
   "source": [
    "df = df.replace('-', '', regex=False)"
   ]
  }
 ],
 "metadata": {
  "kernelspec": {
   "display_name": "Python 3",
   "language": "python",
   "name": "python3"
  },
  "language_info": {
   "codemirror_mode": {
    "name": "ipython",
    "version": 3
   },
   "file_extension": ".py",
   "mimetype": "text/x-python",
   "name": "python",
   "nbconvert_exporter": "python",
   "pygments_lexer": "ipython3",
   "version": "3.13.0"
  }
 },
 "nbformat": 4,
 "nbformat_minor": 5
}
