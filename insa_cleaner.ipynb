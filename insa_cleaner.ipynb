{
 "cells": [
  {
   "cell_type": "code",
   "execution_count": 47,
   "id": "4d816334",
   "metadata": {},
   "outputs": [],
   "source": [
    "import pandas as pd\n",
    "\n",
    "df = pd.read_csv('data/insa_all_cleaned.csv')"
   ]
  },
  {
   "cell_type": "code",
   "execution_count": 48,
   "id": "9d599b1c",
   "metadata": {},
   "outputs": [
    {
     "name": "stdout",
     "output_type": "stream",
     "text": [
      "(6194, 5)\n",
      "  first_name last_name phone department     role\n",
      "0  Alexandre      Saad   NaN      GMPPA  student\n",
      "1      Clara      Saad   NaN       FIMI  student\n",
      "2      Elise      Haag   NaN         GM  student\n",
      "3      Linda      Taam   NaN         MT  student\n",
      "4      Peter      Saad   NaN         IF  student\n",
      "<class 'pandas.core.frame.DataFrame'>\n",
      "RangeIndex: 6194 entries, 0 to 6193\n",
      "Data columns (total 5 columns):\n",
      " #   Column      Non-Null Count  Dtype \n",
      "---  ------      --------------  ----- \n",
      " 0   first_name  6194 non-null   object\n",
      " 1   last_name   6194 non-null   object\n",
      " 2   phone       875 non-null    object\n",
      " 3   department  6194 non-null   object\n",
      " 4   role        6194 non-null   object\n",
      "dtypes: object(5)\n",
      "memory usage: 242.1+ KB\n",
      "None\n"
     ]
    }
   ],
   "source": [
    "print(df.shape)      # number of rows, columns\n",
    "print(df.head())     # first few rows\n",
    "print(df.info())     # data types and non-null counts"
   ]
  },
  {
   "cell_type": "code",
   "execution_count": 4,
   "id": "170cd87d",
   "metadata": {},
   "outputs": [],
   "source": [
    "df = df.drop_duplicates()"
   ]
  },
  {
   "cell_type": "code",
   "execution_count": null,
   "id": "2f4b35d0",
   "metadata": {},
   "outputs": [],
   "source": [
    "df = df.dropna(subset=['role'])"
   ]
  },
  {
   "cell_type": "code",
   "execution_count": 53,
   "id": "0f6b5a89",
   "metadata": {},
   "outputs": [],
   "source": [
    "df.to_csv('data/insa_all_cleaned.csv', index=False)"
   ]
  },
  {
   "cell_type": "code",
   "execution_count": null,
   "id": "a1237b45",
   "metadata": {},
   "outputs": [
    {
     "name": "stdout",
     "output_type": "stream",
     "text": [
      "(4794, 5)\n",
      "  First Name Last Name Phone Department       Role\n",
      "0  Alexandre      Saad          [GMPPA]  [student]\n",
      "1      Clara      Saad           [FIMI]  [student]\n",
      "2      Elise      Haag             [GM]  [student]\n",
      "3      Linda      Taam             [MT]  [student]\n",
      "4      Peter      Saad             [IF]  [student]\n",
      "<class 'pandas.core.frame.DataFrame'>\n",
      "Index: 4794 entries, 0 to 6506\n",
      "Data columns (total 5 columns):\n",
      " #   Column      Non-Null Count  Dtype \n",
      "---  ------      --------------  ----- \n",
      " 0   First Name  4794 non-null   object\n",
      " 1   Last Name   4794 non-null   object\n",
      " 2   Phone       4794 non-null   object\n",
      " 3   Department  4794 non-null   object\n",
      " 4   Role        4794 non-null   object\n",
      "dtypes: object(5)\n",
      "memory usage: 224.7+ KB\n"
     ]
    }
   ],
   "source": [
    "students_df = df[df['role'].apply(lambda roles: 'student' in roles)]\n",
    "print(students_df.shape)\n",
    "print(students_df.head())\n",
    "students_df.info()\n",
    "students_df.to_csv('data/insa_students.csv', index=False)"
   ]
  },
  {
   "cell_type": "code",
   "execution_count": null,
   "id": "83caca08",
   "metadata": {},
   "outputs": [
    {
     "name": "stdout",
     "output_type": "stream",
     "text": [
      "{'researcher', 'emeritus', 'staff', 'teacher', 'alum', 'student', 'off'}\n"
     ]
    }
   ],
   "source": [
    "unique_roles = set(role for roles in df['role'] for role in roles)\n",
    "print(unique_roles)"
   ]
  },
  {
   "cell_type": "code",
   "execution_count": null,
   "id": "5fa0c4fa",
   "metadata": {},
   "outputs": [
    {
     "name": "stdout",
     "output_type": "stream",
     "text": [
      "(1199, 5)\n",
      "    First Name Last Name                                             Phone  \\\n",
      "12      Raouhi     Sanaa                                                []   \n",
      "16        Amin    Laafar                                                []   \n",
      "27       Amine   Laaribi                                                []   \n",
      "28  Abderrahim   Maazouz  [04 72 43 63 32, 04 72 43 82 25, 04 72 43 78 10]   \n",
      "30      Hacina   Djaafri                                                []   \n",
      "\n",
      "      Department                   Role  \n",
      "12         [LVA]     [alum, researcher]  \n",
      "16  [FIMI, DEEP]        [alum, teacher]  \n",
      "27      [LAMCOS]  [student, researcher]  \n",
      "28     [GM, IMP]              [teacher]  \n",
      "30      [AMPERE]              [teacher]  \n",
      "<class 'pandas.core.frame.DataFrame'>\n",
      "Index: 1199 entries, 12 to 6502\n",
      "Data columns (total 5 columns):\n",
      " #   Column      Non-Null Count  Dtype \n",
      "---  ------      --------------  ----- \n",
      " 0   First Name  1199 non-null   object\n",
      " 1   Last Name   1199 non-null   object\n",
      " 2   Phone       1199 non-null   object\n",
      " 3   Department  1199 non-null   object\n",
      " 4   Role        1199 non-null   object\n",
      "dtypes: object(5)\n",
      "memory usage: 56.2+ KB\n"
     ]
    }
   ],
   "source": [
    "researchers_teachers_df = df[df['role'].apply(lambda roles: 'researcher' in roles or 'teacher' in roles)]\n",
    "print(researchers_teachers_df.shape)\n",
    "print(researchers_teachers_df.head())\n",
    "researchers_teachers_df.info()\n",
    "researchers_teachers_df.to_csv('data/insa_researchers_teachers.csv', index=False)"
   ]
  },
  {
   "cell_type": "code",
   "execution_count": 49,
   "id": "b3197e8b",
   "metadata": {},
   "outputs": [
    {
     "name": "stdout",
     "output_type": "stream",
     "text": [
      "(6194, 5)\n",
      "  first_name last_name phone department       role\n",
      "0  Alexandre      Saad    []    [GMPPA]  [student]\n",
      "1      Clara      Saad    []     [FIMI]  [student]\n",
      "2      Elise      Haag    []       [GM]  [student]\n",
      "3      Linda      Taam    []       [MT]  [student]\n",
      "4      Peter      Saad    []       [IF]  [student]\n"
     ]
    }
   ],
   "source": [
    "df['phone'] = df['phone'].fillna('')\n",
    "#    Or drop rows with missing Department or Role if those are required:\n",
    "# df = df.dropna(subset=['Department', 'Role'])\n",
    "\n",
    "df['role'] = df['role'].fillna('').apply(lambda s: [r.strip() for r in s.split(';') if r.strip()])\n",
    "df['department'] = df['department'].fillna('').apply(lambda s: [d.strip() for d in s.split(';') if d.strip()])\n",
    "df['phone'] = df['phone'].fillna('').apply(lambda s: [p.strip() for p in s.split(';') if p.strip()])\n",
    "# 7. Verify the result.\n",
    "print(df.shape)\n",
    "print(df.head())"
   ]
  },
  {
   "cell_type": "code",
   "execution_count": 54,
   "id": "d9a62de9",
   "metadata": {},
   "outputs": [
    {
     "name": "stdout",
     "output_type": "stream",
     "text": [
      "Wrote 6194 records to data/insa_all_cleaned.json\n"
     ]
    }
   ],
   "source": [
    "import csv\n",
    "import json\n",
    "import ast\n",
    "\n",
    "INPUT_CSV = 'data/insa_all_cleaned.csv'    # replace with your CSV filename\n",
    "OUTPUT_JSON = 'data/insa_all_cleaned.json' # desired output filename\n",
    "\n",
    "# Columns that contain Python-list strings\n",
    "LIST_COLS = ['phone', 'department', 'role']\n",
    "\n",
    "data = []\n",
    "with open(INPUT_CSV, newline='', encoding='utf-8') as csvfile:\n",
    "    reader = csv.DictReader(csvfile)\n",
    "    for row in reader:\n",
    "        # For each list-style column, literal_eval the cell (or use [] if empty)\n",
    "        for col in LIST_COLS:\n",
    "            raw = row.get(col, '').strip()\n",
    "            if raw:\n",
    "                try:\n",
    "                    row[col] = ast.literal_eval(raw)\n",
    "                except (ValueError, SyntaxError):\n",
    "                    # Fallback to empty list if parsing fails\n",
    "                    row[col] = []\n",
    "            else:\n",
    "                row[col] = []\n",
    "        data.append(row)\n",
    "\n",
    "# Write out as pretty-printed JSON\n",
    "with open(OUTPUT_JSON, 'w', encoding='utf-8') as jsonfile:\n",
    "    json.dump(data, jsonfile, ensure_ascii=False, indent=2)\n",
    "\n",
    "print(f\"Wrote {len(data)} records to {OUTPUT_JSON}\")\n"
   ]
  },
  {
   "cell_type": "code",
   "execution_count": 52,
   "id": "5dfff62a",
   "metadata": {},
   "outputs": [],
   "source": [
    "df = df.replace('-', '', regex=False)"
   ]
  }
 ],
 "metadata": {
  "kernelspec": {
   "display_name": "Python 3",
   "language": "python",
   "name": "python3"
  },
  "language_info": {
   "codemirror_mode": {
    "name": "ipython",
    "version": 3
   },
   "file_extension": ".py",
   "mimetype": "text/x-python",
   "name": "python",
   "nbconvert_exporter": "python",
   "pygments_lexer": "ipython3",
   "version": "3.13.0"
  }
 },
 "nbformat": 4,
 "nbformat_minor": 5
}
